{
 "cells": [
  {
   "cell_type": "markdown",
   "id": "2ea43b6b",
   "metadata": {},
   "source": [
    "# Python NumPy Array slicing()"
   ]
  },
  {
   "cell_type": "code",
   "execution_count": 31,
   "id": "f75007b9",
   "metadata": {},
   "outputs": [],
   "source": [
    "import numpy as np"
   ]
  },
  {
   "cell_type": "code",
   "execution_count": 32,
   "id": "fc1943be",
   "metadata": {},
   "outputs": [
    {
     "name": "stdout",
     "output_type": "stream",
     "text": [
      "[[  1   2   3   4   5   6   7   8   9  10]\n",
      " [ 11  12  13  14  15  16  17  18  19  20]\n",
      " [ 21  22  23  24  25  26  27  28  29  30]\n",
      " [ 31  32  33  34  35  36  37  38  39  40]\n",
      " [ 41  42  43  44  45  46  47  48  49  50]\n",
      " [ 51  52  53  54  55  56  57  58  59  60]\n",
      " [ 61  62  63  64  65  66  67  68  69  70]\n",
      " [ 71  72  73  74  75  76  77  78  79  80]\n",
      " [ 81  82  83  84  85  86  87  88  89  90]\n",
      " [ 91  92  93  94  95  96  97  98  99 100]]\n"
     ]
    }
   ],
   "source": [
    "mx = np.arange(1,101).reshape(10,10)\n",
    "print(mx)"
   ]
  },
  {
   "cell_type": "code",
   "execution_count": 33,
   "id": "a15e4fcb",
   "metadata": {},
   "outputs": [
    {
     "data": {
      "text/plain": [
       "1"
      ]
     },
     "execution_count": 33,
     "metadata": {},
     "output_type": "execute_result"
    }
   ],
   "source": [
    "mx[0,0] # row , col"
   ]
  },
  {
   "cell_type": "code",
   "execution_count": 34,
   "id": "e556b9e0",
   "metadata": {},
   "outputs": [
    {
     "data": {
      "text/plain": [
       "0"
      ]
     },
     "execution_count": 34,
     "metadata": {},
     "output_type": "execute_result"
    }
   ],
   "source": [
    "mx[0,0].ndim"
   ]
  },
  {
   "cell_type": "code",
   "execution_count": 35,
   "id": "0d2d5e1c",
   "metadata": {},
   "outputs": [
    {
     "data": {
      "text/plain": [
       "array([ 1,  2,  3,  4,  5,  6,  7,  8,  9, 10])"
      ]
     },
     "execution_count": 35,
     "metadata": {},
     "output_type": "execute_result"
    }
   ],
   "source": [
    "mx[0]"
   ]
  },
  {
   "cell_type": "code",
   "execution_count": 36,
   "id": "2c4842a7",
   "metadata": {},
   "outputs": [
    {
     "data": {
      "text/plain": [
       "array([ 1, 11, 21, 31, 41, 51, 61, 71, 81, 91])"
      ]
     },
     "execution_count": 36,
     "metadata": {},
     "output_type": "execute_result"
    }
   ],
   "source": [
    "mx[:, 0]"
   ]
  },
  {
   "cell_type": "code",
   "execution_count": 37,
   "id": "b7a35fa8",
   "metadata": {},
   "outputs": [
    {
     "data": {
      "text/plain": [
       "array([[ 1],\n",
       "       [11],\n",
       "       [21],\n",
       "       [31],\n",
       "       [41],\n",
       "       [51],\n",
       "       [61],\n",
       "       [71],\n",
       "       [81],\n",
       "       [91]])"
      ]
     },
     "execution_count": 37,
     "metadata": {},
     "output_type": "execute_result"
    }
   ],
   "source": [
    "mx[:, 0:1]"
   ]
  },
  {
   "cell_type": "code",
   "execution_count": 38,
   "id": "0cc7eb86",
   "metadata": {},
   "outputs": [
    {
     "data": {
      "text/plain": [
       "2"
      ]
     },
     "execution_count": 38,
     "metadata": {},
     "output_type": "execute_result"
    }
   ],
   "source": [
    "mx[:, 0:1].ndim"
   ]
  },
  {
   "cell_type": "code",
   "execution_count": 39,
   "id": "fed44ccb",
   "metadata": {},
   "outputs": [
    {
     "data": {
      "text/plain": [
       "array([[12, 13, 14],\n",
       "       [22, 23, 24],\n",
       "       [32, 33, 34]])"
      ]
     },
     "execution_count": 39,
     "metadata": {},
     "output_type": "execute_result"
    }
   ],
   "source": [
    "mx[1:4, 1:4]"
   ]
  },
  {
   "cell_type": "code",
   "execution_count": 40,
   "id": "c1fab958",
   "metadata": {},
   "outputs": [
    {
     "data": {
      "text/plain": [
       "array([[ 2],\n",
       "       [12],\n",
       "       [22],\n",
       "       [32],\n",
       "       [42],\n",
       "       [52],\n",
       "       [62],\n",
       "       [72],\n",
       "       [82],\n",
       "       [92]])"
      ]
     },
     "execution_count": 40,
     "metadata": {},
     "output_type": "execute_result"
    }
   ],
   "source": [
    "mx[:,1:2]"
   ]
  },
  {
   "cell_type": "code",
   "execution_count": 41,
   "id": "ea58ed39",
   "metadata": {},
   "outputs": [
    {
     "data": {
      "text/plain": [
       "array([[  1,   2,   3,   4,   5,   6,   7,   8,   9,  10],\n",
       "       [ 11,  12,  13,  14,  15,  16,  17,  18,  19,  20],\n",
       "       [ 21,  22,  23,  24,  25,  26,  27,  28,  29,  30],\n",
       "       [ 31,  32,  33,  34,  35,  36,  37,  38,  39,  40],\n",
       "       [ 41,  42,  43,  44,  45,  46,  47,  48,  49,  50],\n",
       "       [ 51,  52,  53,  54,  55,  56,  57,  58,  59,  60],\n",
       "       [ 61,  62,  63,  64,  65,  66,  67,  68,  69,  70],\n",
       "       [ 71,  72,  73,  74,  75,  76,  77,  78,  79,  80],\n",
       "       [ 81,  82,  83,  84,  85,  86,  87,  88,  89,  90],\n",
       "       [ 91,  92,  93,  94,  95,  96,  97,  98,  99, 100]])"
      ]
     },
     "execution_count": 41,
     "metadata": {},
     "output_type": "execute_result"
    }
   ],
   "source": [
    "mx[:]"
   ]
  },
  {
   "cell_type": "code",
   "execution_count": 42,
   "id": "d73c1f22",
   "metadata": {},
   "outputs": [
    {
     "data": {
      "text/plain": [
       "array([[  1,   2,   3,   4,   5,   6,   7,   8,   9,  10],\n",
       "       [ 11,  12,  13,  14,  15,  16,  17,  18,  19,  20],\n",
       "       [ 21,  22,  23,  24,  25,  26,  27,  28,  29,  30],\n",
       "       [ 31,  32,  33,  34,  35,  36,  37,  38,  39,  40],\n",
       "       [ 41,  42,  43,  44,  45,  46,  47,  48,  49,  50],\n",
       "       [ 51,  52,  53,  54,  55,  56,  57,  58,  59,  60],\n",
       "       [ 61,  62,  63,  64,  65,  66,  67,  68,  69,  70],\n",
       "       [ 71,  72,  73,  74,  75,  76,  77,  78,  79,  80],\n",
       "       [ 81,  82,  83,  84,  85,  86,  87,  88,  89,  90],\n",
       "       [ 91,  92,  93,  94,  95,  96,  97,  98,  99, 100]])"
      ]
     },
     "execution_count": 42,
     "metadata": {},
     "output_type": "execute_result"
    }
   ],
   "source": [
    "mx[:,:]"
   ]
  },
  {
   "cell_type": "code",
   "execution_count": 43,
   "id": "56951269",
   "metadata": {},
   "outputs": [
    {
     "data": {
      "text/plain": [
       "4"
      ]
     },
     "execution_count": 43,
     "metadata": {},
     "output_type": "execute_result"
    }
   ],
   "source": [
    "mx.itemsize\n"
   ]
  },
  {
   "cell_type": "code",
   "execution_count": 44,
   "id": "ccb853e2",
   "metadata": {},
   "outputs": [
    {
     "data": {
      "text/plain": [
       "dtype('int32')"
      ]
     },
     "execution_count": 44,
     "metadata": {},
     "output_type": "execute_result"
    }
   ],
   "source": [
    "mx.dtype"
   ]
  },
  {
   "cell_type": "code",
   "execution_count": 45,
   "id": "a97594db",
   "metadata": {},
   "outputs": [
    {
     "data": {
      "text/plain": [
       "4.0"
      ]
     },
     "execution_count": 45,
     "metadata": {},
     "output_type": "execute_result"
    }
   ],
   "source": [
    "32/8"
   ]
  },
  {
   "cell_type": "code",
   "execution_count": null,
   "id": "b40e0f00",
   "metadata": {},
   "outputs": [],
   "source": []
  }
 ],
 "metadata": {
  "kernelspec": {
   "display_name": "Python 3 (ipykernel)",
   "language": "python",
   "name": "python3"
  },
  "language_info": {
   "codemirror_mode": {
    "name": "ipython",
    "version": 3
   },
   "file_extension": ".py",
   "mimetype": "text/x-python",
   "name": "python",
   "nbconvert_exporter": "python",
   "pygments_lexer": "ipython3",
   "version": "3.9.7"
  }
 },
 "nbformat": 4,
 "nbformat_minor": 5
}
